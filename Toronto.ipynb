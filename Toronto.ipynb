{
 "cells": [
  {
   "cell_type": "code",
   "execution_count": 8,
   "metadata": {},
   "outputs": [],
   "source": [
    "import numpy as np\n",
    "import pandas as pd"
   ]
  },
  {
   "cell_type": "markdown",
   "metadata": {},
   "source": [
    "## First Part of the soumission"
   ]
  },
  {
   "cell_type": "code",
   "execution_count": 9,
   "metadata": {
    "scrolled": true
   },
   "outputs": [
    {
     "name": "stdout",
     "output_type": "stream",
     "text": [
      "Dimensions of the imported table: (180, 3)\n"
     ]
    }
   ],
   "source": [
    "df = pd.read_html(\"https://en.wikipedia.org/wiki/List_of_postal_codes_of_Canada:_M\")                             #Step 1: get HTML file and transform the received list in a dataframe\n",
    "df = df[0]                                                                                                      \n",
    "print (\"Dimensions of the imported table:\", df.shape)"
   ]
  },
  {
   "cell_type": "code",
   "execution_count": 10,
   "metadata": {},
   "outputs": [
    {
     "name": "stdout",
     "output_type": "stream",
     "text": [
      "Dimensions of the table with Not Assigned removed from Borough field: (103, 3)\n"
     ]
    }
   ],
   "source": [
    "df = df[df.Borough != 'Not assigned']                                                                            #Step 2: remove \"Not Assigned\" values of \"Borough\n",
    "print (\"Dimensions of the table with Not Assigned removed from Borough field:\", df.shape)"
   ]
  },
  {
   "cell_type": "code",
   "execution_count": 11,
   "metadata": {},
   "outputs": [
    {
     "name": "stdout",
     "output_type": "stream",
     "text": [
      "Dimension of the merged table on Neighborhood: (103, 6)\n",
      "The number of true matches is: 103\n",
      "All neighborhoods are grouped under one single postal code area\n"
     ]
    }
   ],
   "source": [
    "df_merged = pd.merge(df, df, on='Postal Code', how='outer', suffixes=('_left', '_right'))                        #Step 3: merge on Postal Code and test Neighborhood grouping\n",
    "df_merged['Match'] = np.where(df_merged['Neighborhood_left'] == df_merged['Neighborhood_right'], 'True', 'False')\n",
    "print (\"Dimension of the merged table on Neighborhood:\", df_merged.shape)\n",
    "\n",
    "NumberOfTrueMatches = df_merged[df_merged['Match'] == 'True'].shape[0]\n",
    "print (\"The number of true matches is:\", NumberOfTrueMatches)\n",
    "print (\"All neighborhoods are grouped under one single postal code area\")"
   ]
  },
  {
   "cell_type": "code",
   "execution_count": 12,
   "metadata": {},
   "outputs": [
    {
     "data": {
      "text/plain": [
       "(103, 3)"
      ]
     },
     "execution_count": 12,
     "metadata": {},
     "output_type": "execute_result"
    }
   ],
   "source": [
    "df.loc[(df.Neighborhood == 'NaN'),'Neighborhood']= df.Borough                                              #Step 4: replace NaN values of Neighborhood with Borough value\n",
    "df\n",
    "df.shape"
   ]
  },
  {
   "cell_type": "markdown",
   "metadata": {},
   "source": [
    "## Second part of the soumission"
   ]
  },
  {
   "cell_type": "code",
   "execution_count": 13,
   "metadata": {},
   "outputs": [
    {
     "data": {
      "text/plain": [
       "(103, 3)"
      ]
     },
     "execution_count": 13,
     "metadata": {},
     "output_type": "execute_result"
    }
   ],
   "source": [
    "coordinates = pd.read_csv(\"https://cocl.us/Geospatial_data\")    \n",
    "coordinates.shape"
   ]
  },
  {
   "cell_type": "code",
   "execution_count": 15,
   "metadata": {},
   "outputs": [
    {
     "data": {
      "text/plain": [
       "(103, 5)"
      ]
     },
     "execution_count": 15,
     "metadata": {},
     "output_type": "execute_result"
    }
   ],
   "source": [
    "borough_data = pd.merge(df, coordinates, on='Postal Code', how='outer')                                   #Step 5: update the Boroughs file with geographic coordinates\n",
    "borough_data.shape"
   ]
  },
  {
   "cell_type": "code",
   "execution_count": null,
   "metadata": {},
   "outputs": [],
   "source": []
  }
 ],
 "metadata": {
  "kernelspec": {
   "display_name": "Python 3.6",
   "language": "python",
   "name": "python3"
  },
  "language_info": {
   "codemirror_mode": {
    "name": "ipython",
    "version": 3
   },
   "file_extension": ".py",
   "mimetype": "text/x-python",
   "name": "python",
   "nbconvert_exporter": "python",
   "pygments_lexer": "ipython3",
   "version": "3.6.9"
  }
 },
 "nbformat": 4,
 "nbformat_minor": 1
}
